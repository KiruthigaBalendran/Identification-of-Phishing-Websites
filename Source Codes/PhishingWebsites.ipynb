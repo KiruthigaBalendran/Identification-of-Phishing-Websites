{
 "cells": [
  {
   "cell_type": "code",
   "execution_count": 1,
   "metadata": {},
   "outputs": [
    {
     "name": "stderr",
     "output_type": "stream",
     "text": [
      "C:\\Users\\User\\Anaconda3\\lib\\site-packages\\sklearn\\cross_validation.py:41: DeprecationWarning: This module was deprecated in version 0.18 in favor of the model_selection module into which all the refactored classes and functions are moved. Also note that the interface of the new CV iterators are different from that of this module. This module will be removed in 0.20.\n",
      "  \"This module will be removed in 0.20.\", DeprecationWarning)\n"
     ]
    }
   ],
   "source": [
    "# Importing all necessary libraries to work with the dataset\n",
    "\n",
    "# Panda library is used to get a dataframe with rows and columns out of the dataset\n",
    "import pandas as pd\n",
    "# Seaborn library is used to provide an interface to generate statiscal visualization\n",
    "import seaborn as sns; sns.set()\n",
    "# Matplotlib library is used to plot all types 2D graphs in python\n",
    "import matplotlib.pyplot as plt\n",
    "# Numpy library is used to handle mathematical and numerical functions\n",
    "import numpy as np\n",
    "# We have used PCA to reduce the dimension of the dataset \n",
    "from sklearn.decomposition import PCA\n",
    "# Train_test_split package is used to split the training and testing data from the dataset\n",
    "from sklearn.model_selection import train_test_split\n",
    "# Importing the classifier that we will be working\n",
    "from sklearn.ensemble import RandomForestClassifier\n",
    "# This package is used to obtain the accuracy of the classifier \n",
    "from sklearn.metrics import accuracy_score\n",
    "# Cross validation library helps to get the accuracy of the cross validation set\n",
    "from sklearn.cross_validation import  cross_val_score\n",
    "# Confusion matrix is used to get the statistics between the true and predicted labels\n",
    "from sklearn.metrics import confusion_matrix\n",
    "# This package is used to generate the classification report\n",
    "from sklearn import metrics\n",
    "\n",
    "# In order to plot the tree we need to add these two lines to the PATH\n",
    "import os\n",
    "os.environ[\"PATH\"] += os.pathsep + 'C:/Program Files (x86)/Graphviz2.38/bin/'\n",
    "\n",
    "# We are importing essential packages to visualize the decision trees.\n",
    "from sklearn.tree import export_graphviz\n",
    "import pydot"
   ]
  },
  {
   "cell_type": "code",
   "execution_count": 2,
   "metadata": {},
   "outputs": [
    {
     "data": {
      "text/html": [
       "<div>\n",
       "<style scoped>\n",
       "    .dataframe tbody tr th:only-of-type {\n",
       "        vertical-align: middle;\n",
       "    }\n",
       "\n",
       "    .dataframe tbody tr th {\n",
       "        vertical-align: top;\n",
       "    }\n",
       "\n",
       "    .dataframe thead th {\n",
       "        text-align: right;\n",
       "    }\n",
       "</style>\n",
       "<table border=\"1\" class=\"dataframe\">\n",
       "  <thead>\n",
       "    <tr style=\"text-align: right;\">\n",
       "      <th></th>\n",
       "      <th>SFH</th>\n",
       "      <th>popUp Window</th>\n",
       "      <th>SSL Final State</th>\n",
       "      <th>Request URL</th>\n",
       "      <th>URL of Anchor</th>\n",
       "      <th>Web Traffic</th>\n",
       "      <th>URL Length</th>\n",
       "      <th>Age of Domain</th>\n",
       "      <th>Having IP Address</th>\n",
       "      <th>Result</th>\n",
       "    </tr>\n",
       "  </thead>\n",
       "  <tbody>\n",
       "    <tr>\n",
       "      <th>0</th>\n",
       "      <td>1</td>\n",
       "      <td>-1</td>\n",
       "      <td>1</td>\n",
       "      <td>-1</td>\n",
       "      <td>-1</td>\n",
       "      <td>1</td>\n",
       "      <td>1</td>\n",
       "      <td>1</td>\n",
       "      <td>0</td>\n",
       "      <td>0</td>\n",
       "    </tr>\n",
       "    <tr>\n",
       "      <th>1</th>\n",
       "      <td>-1</td>\n",
       "      <td>-1</td>\n",
       "      <td>-1</td>\n",
       "      <td>-1</td>\n",
       "      <td>-1</td>\n",
       "      <td>0</td>\n",
       "      <td>1</td>\n",
       "      <td>1</td>\n",
       "      <td>1</td>\n",
       "      <td>1</td>\n",
       "    </tr>\n",
       "    <tr>\n",
       "      <th>2</th>\n",
       "      <td>1</td>\n",
       "      <td>-1</td>\n",
       "      <td>0</td>\n",
       "      <td>0</td>\n",
       "      <td>-1</td>\n",
       "      <td>0</td>\n",
       "      <td>-1</td>\n",
       "      <td>1</td>\n",
       "      <td>0</td>\n",
       "      <td>1</td>\n",
       "    </tr>\n",
       "    <tr>\n",
       "      <th>3</th>\n",
       "      <td>1</td>\n",
       "      <td>0</td>\n",
       "      <td>1</td>\n",
       "      <td>-1</td>\n",
       "      <td>-1</td>\n",
       "      <td>0</td>\n",
       "      <td>1</td>\n",
       "      <td>1</td>\n",
       "      <td>0</td>\n",
       "      <td>0</td>\n",
       "    </tr>\n",
       "    <tr>\n",
       "      <th>4</th>\n",
       "      <td>-1</td>\n",
       "      <td>-1</td>\n",
       "      <td>1</td>\n",
       "      <td>-1</td>\n",
       "      <td>0</td>\n",
       "      <td>0</td>\n",
       "      <td>-1</td>\n",
       "      <td>1</td>\n",
       "      <td>0</td>\n",
       "      <td>1</td>\n",
       "    </tr>\n",
       "  </tbody>\n",
       "</table>\n",
       "</div>"
      ],
      "text/plain": [
       "   SFH  popUp Window  SSL Final State  Request URL  URL of Anchor  \\\n",
       "0    1            -1                1           -1             -1   \n",
       "1   -1            -1               -1           -1             -1   \n",
       "2    1            -1                0            0             -1   \n",
       "3    1             0                1           -1             -1   \n",
       "4   -1            -1                1           -1              0   \n",
       "\n",
       "   Web Traffic  URL Length   Age of Domain  Having IP Address  Result  \n",
       "0            1            1              1                  0       0  \n",
       "1            0            1              1                  1       1  \n",
       "2            0           -1              1                  0       1  \n",
       "3            0            1              1                  0       0  \n",
       "4            0           -1              1                  0       1  "
      ]
     },
     "execution_count": 2,
     "metadata": {},
     "output_type": "execute_result"
    }
   ],
   "source": [
    "# Reading the Phishing websites data from the excel file and saving them to a variable 'features'\n",
    "features = pd.read_excel('dataset.xlsx')\n",
    "# Displaying the first 5 rows of the dataset\n",
    "features.head(5)"
   ]
  },
  {
   "cell_type": "code",
   "execution_count": 3,
   "metadata": {},
   "outputs": [
    {
     "name": "stdout",
     "output_type": "stream",
     "text": [
      "[u'SFH', u'popUp Window', u'SSL Final State', u'Request URL', u'URL of Anchor', u'Web Traffic', u'URL Length ', u'Age of Domain', u'Having IP Address']\n"
     ]
    }
   ],
   "source": [
    "# X variable contains all data without the Result column.Axis 1 refers to the columns\n",
    "X= features.drop('Result', axis = 1)\n",
    "# Y variable contains only the Result column of the dataset\n",
    "Y= features.loc[:,['Result']].values\n",
    "# Converting Y into 1D array\n",
    "Y= Y.ravel()\n",
    "# Saving the column headings(feature names)\n",
    "feature_list = list(X.columns)\n",
    "target_list =['Phishing', 'Suspicious', 'Legitimate']\n",
    "print(feature_list)\n"
   ]
  },
  {
   "cell_type": "code",
   "execution_count": 4,
   "metadata": {},
   "outputs": [
    {
     "data": {
      "text/html": [
       "<div>\n",
       "<style scoped>\n",
       "    .dataframe tbody tr th:only-of-type {\n",
       "        vertical-align: middle;\n",
       "    }\n",
       "\n",
       "    .dataframe tbody tr th {\n",
       "        vertical-align: top;\n",
       "    }\n",
       "\n",
       "    .dataframe thead th {\n",
       "        text-align: right;\n",
       "    }\n",
       "</style>\n",
       "<table border=\"1\" class=\"dataframe\">\n",
       "  <thead>\n",
       "    <tr style=\"text-align: right;\">\n",
       "      <th></th>\n",
       "      <th>0</th>\n",
       "      <th>1</th>\n",
       "      <th>2</th>\n",
       "      <th>3</th>\n",
       "      <th>4</th>\n",
       "      <th>5</th>\n",
       "      <th>6</th>\n",
       "      <th>7</th>\n",
       "      <th>Result</th>\n",
       "    </tr>\n",
       "  </thead>\n",
       "  <tbody>\n",
       "    <tr>\n",
       "      <th>0</th>\n",
       "      <td>-0.040007</td>\n",
       "      <td>-0.534025</td>\n",
       "      <td>1.396626</td>\n",
       "      <td>0.657558</td>\n",
       "      <td>0.070759</td>\n",
       "      <td>0.410673</td>\n",
       "      <td>-1.317227</td>\n",
       "      <td>1.134072</td>\n",
       "      <td>0</td>\n",
       "    </tr>\n",
       "    <tr>\n",
       "      <th>1</th>\n",
       "      <td>1.126874</td>\n",
       "      <td>-1.694566</td>\n",
       "      <td>-0.602241</td>\n",
       "      <td>1.499749</td>\n",
       "      <td>0.151729</td>\n",
       "      <td>-0.102142</td>\n",
       "      <td>-0.358969</td>\n",
       "      <td>0.431160</td>\n",
       "      <td>1</td>\n",
       "    </tr>\n",
       "    <tr>\n",
       "      <th>2</th>\n",
       "      <td>-0.048551</td>\n",
       "      <td>-0.771857</td>\n",
       "      <td>0.049534</td>\n",
       "      <td>-1.083485</td>\n",
       "      <td>0.707807</td>\n",
       "      <td>-0.547327</td>\n",
       "      <td>-1.039926</td>\n",
       "      <td>0.308606</td>\n",
       "      <td>1</td>\n",
       "    </tr>\n",
       "    <tr>\n",
       "      <th>3</th>\n",
       "      <td>-0.655722</td>\n",
       "      <td>-0.809362</td>\n",
       "      <td>1.487724</td>\n",
       "      <td>0.779619</td>\n",
       "      <td>0.072811</td>\n",
       "      <td>-0.126211</td>\n",
       "      <td>-0.400537</td>\n",
       "      <td>0.517497</td>\n",
       "      <td>0</td>\n",
       "    </tr>\n",
       "    <tr>\n",
       "      <th>4</th>\n",
       "      <td>0.462426</td>\n",
       "      <td>-1.250212</td>\n",
       "      <td>-0.285455</td>\n",
       "      <td>-0.897072</td>\n",
       "      <td>-0.932769</td>\n",
       "      <td>1.017973</td>\n",
       "      <td>0.058857</td>\n",
       "      <td>0.286242</td>\n",
       "      <td>1</td>\n",
       "    </tr>\n",
       "  </tbody>\n",
       "</table>\n",
       "</div>"
      ],
      "text/plain": [
       "          0         1         2         3         4         5         6  \\\n",
       "0 -0.040007 -0.534025  1.396626  0.657558  0.070759  0.410673 -1.317227   \n",
       "1  1.126874 -1.694566 -0.602241  1.499749  0.151729 -0.102142 -0.358969   \n",
       "2 -0.048551 -0.771857  0.049534 -1.083485  0.707807 -0.547327 -1.039926   \n",
       "3 -0.655722 -0.809362  1.487724  0.779619  0.072811 -0.126211 -0.400537   \n",
       "4  0.462426 -1.250212 -0.285455 -0.897072 -0.932769  1.017973  0.058857   \n",
       "\n",
       "          7  Result  \n",
       "0  1.134072       0  \n",
       "1  0.431160       1  \n",
       "2  0.308606       1  \n",
       "3  0.517497       0  \n",
       "4  0.286242       1  "
      ]
     },
     "execution_count": 4,
     "metadata": {},
     "output_type": "execute_result"
    }
   ],
   "source": [
    "# Choose the minimum number of principal components so that 95% of variance is maintained\n",
    "pca = PCA(0.95)\n",
    "# Fitting the features data and applying transform\n",
    "principalComponents = pca.fit_transform(X)\n",
    "# Framing the number of components into a data frame\n",
    "pcaDf = pd.DataFrame(data = principalComponents)\n",
    "# Adding the result column\n",
    "finalDf = pd.concat([pcaDf, features[['Result']]], axis = 1)\n",
    "# Viewing the first 5 rows of the final dataframe\n",
    "finalDf.head(5)"
   ]
  },
  {
   "cell_type": "code",
   "execution_count": 5,
   "metadata": {},
   "outputs": [],
   "source": [
    "# Splitting the dataset into training and testing sets\n",
    "train_features, test_features, train_labels, test_labels = train_test_split(X, Y, test_size = 0.25, random_state = 42)"
   ]
  },
  {
   "cell_type": "code",
   "execution_count": 6,
   "metadata": {},
   "outputs": [
    {
     "name": "stdout",
     "output_type": "stream",
     "text": [
      "('Training Features Shape:', (1014, 9))\n",
      "('Training Labels Shape:', (1014L,))\n",
      "('Testing Features Shape:', (339, 9))\n",
      "('Testing Labels Shape:', (339L,))\n"
     ]
    }
   ],
   "source": [
    "print('Training Features Shape:', train_features.shape)\n",
    "print('Training Labels Shape:', train_labels.shape)\n",
    "print('Testing Features Shape:', test_features.shape)\n",
    "print('Testing Labels Shape:', test_labels.shape)"
   ]
  },
  {
   "cell_type": "code",
   "execution_count": 7,
   "metadata": {},
   "outputs": [],
   "source": [
    "# Using the RandomForestClassifier model with 1000 decision trees\n",
    "RFC = RandomForestClassifier(n_estimators=1000)\n",
    "# Training the classifier on training data\n",
    "RFC.fit(train_features, train_labels);\n",
    "# Predicting the classifier with the test data\n",
    "predictions = RFC.predict(test_features)"
   ]
  },
  {
   "cell_type": "code",
   "execution_count": 8,
   "metadata": {},
   "outputs": [
    {
     "name": "stdout",
     "output_type": "stream",
     "text": [
      "The accuracy of your algorithm on testing data is: 89.97050147492625\n"
     ]
    }
   ],
   "source": [
    "# Finding the accuracy of the predicted data compared to the test values\n",
    "accuracy = 100.0 * accuracy_score(test_labels, predictions)\n",
    "print (\"The accuracy of your algorithm on testing data is: \" + str(accuracy))"
   ]
  },
  {
   "cell_type": "code",
   "execution_count": 9,
   "metadata": {},
   "outputs": [
    {
     "name": "stdout",
     "output_type": "stream",
     "text": [
      "10-fold cross validation average accuracy: 89.8115861226286\n"
     ]
    }
   ],
   "source": [
    "# Calculating the cross validation score of the dataset using the 10 fold cross validation\n",
    "scores = cross_val_score(RFC, X, Y,cv=10)\n",
    "print(\"10-fold cross validation average accuracy: \" + str(scores.mean()*100.0) )"
   ]
  },
  {
   "cell_type": "code",
   "execution_count": 10,
   "metadata": {},
   "outputs": [
    {
     "name": "stdout",
     "output_type": "stream",
     "text": [
      "             precision    recall  f1-score   support\n",
      "\n",
      "   Phishing       0.92      0.91      0.91       170\n",
      " Suspicious       0.84      0.87      0.85        30\n",
      " Legitimate       0.89      0.89      0.89       139\n",
      "\n",
      "avg / total       0.90      0.90      0.90       339\n",
      "\n"
     ]
    }
   ],
   "source": [
    "# Generating classification report for the predictions\n",
    "print(metrics.classification_report(predictions, test_labels,target_names=target_list))"
   ]
  },
  {
   "cell_type": "code",
   "execution_count": 11,
   "metadata": {},
   "outputs": [
    {
     "data": {
      "image/png": "[encoded data removed]",
      "text/plain": [
       "<Figure size 432x288 with 1 Axes>"
      ]
     },
     "metadata": {},
     "output_type": "display_data"
    }
   ],
   "source": [
    "# Finding the values for the confusion matrix by comparing the predicted values with the test values\n",
    "confusionMatrix = confusion_matrix(test_labels, predictions)\n",
    "subGraph= plt.subplot()\n",
    "# Generating a map to visualize the matrix\n",
    "sns.heatmap(confusionMatrix, square=True, annot=True, fmt='d', cbar=False, ax=subGraph); #annot=True to annotate cells\n",
    "\n",
    "# Setting the labels for X and Y axis\n",
    "subGraph.set_xlabel('Predicted labels');\n",
    "subGraph.set_ylabel('True labels'); \n",
    "# Setting title\n",
    "subGraph.set_title('Confusion Matrix'); \n",
    "# Setting the class labels for both axis\n",
    "subGraph.xaxis.set_ticklabels(['Phishing', 'Suspicious','Legitimate']);\n",
    "subGraph.yaxis.set_ticklabels(['Phishing', 'Suspicious','Legitimate']);"
   ]
  },
  {
   "cell_type": "code",
   "execution_count": 12,
   "metadata": {},
   "outputs": [],
   "source": [
    "# From the forest we are going to take one tree\n",
    "oneTree = RFC.estimators_[5]\n",
    "# We are exporting the decision tree to a dot file\n",
    "export_graphviz(oneTree, out_file = 'oneTree.dot', feature_names = feature_list, rounded = True, precision = 1)\n",
    "# With the help of the dot file we are generating the graph\n",
    "(graph, ) = pydot.graph_from_dot_file('oneTree.dot')\n",
    "# To view the image, we are converting the dot file to png format\n",
    "graph.write_png('oneTree.png')\n"
   ]
  },
  {
   "cell_type": "code",
   "execution_count": 13,
   "metadata": {},
   "outputs": [],
   "source": [
    "# Limiting the depth of the single tree to 3 levels\n",
    "RFC_small = RandomForestClassifier(n_estimators=10, max_depth = 3)\n",
    "RFC_small.fit(train_features, train_labels)\n",
    "# Extracting the small tree\n",
    "decisionTree_small = RFC_small.estimators_[5]\n",
    "# Saving the tree to png format\n",
    "export_graphviz(decisionTree_small, out_file = 'small_tree.dot', feature_names = feature_list, rounded = True, precision = 1)\n",
    "(graph, ) = pydot.graph_from_dot_file('small_tree.dot')\n",
    "graph.write_png('small_tree.png');"
   ]
  }
 ],
 "metadata": {
  "kernelspec": {
   "display_name": "Python 2",
   "language": "python",
   "name": "python2"
  },
  "language_info": {
   "codemirror_mode": {
    "name": "ipython",
    "version": 2
   },
   "file_extension": ".py",
   "mimetype": "text/x-python",
   "name": "python",
   "nbconvert_exporter": "python",
   "pygments_lexer": "ipython2",
   "version": "2.7.14"
  }
 },
 "nbformat": 4,
 "nbformat_minor": 2
}
